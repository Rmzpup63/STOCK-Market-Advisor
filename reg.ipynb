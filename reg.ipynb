{
 "cells": [
  {
   "cell_type": "markdown",
   "metadata": {},
   "source": [
    "# Stock Market Predictor"
   ]
  },
  {
   "cell_type": "markdown",
   "metadata": {},
   "source": [
    "## Data Preprocessing"
   ]
  },
  {
   "cell_type": "markdown",
   "metadata": {},
   "source": [
    "#### Importing Dependencies"
   ]
  },
  {
   "cell_type": "code",
   "execution_count": 22,
   "metadata": {},
   "outputs": [],
   "source": [
    "import numpy as np\n",
    "import matplotlib.pyplot as plt\n",
    "import pandas as pd\n",
    "import seaborn as sb"
   ]
  },
  {
   "cell_type": "markdown",
   "metadata": {},
   "source": [
    "#### Importing the datasets\n"
   ]
  },
  {
   "cell_type": "code",
   "execution_count": 32,
   "metadata": {},
   "outputs": [],
   "source": [
    "#loading the datasets\n",
    "nifty = pd.read_csv('NIFTY.csv')\n",
    "currency = pd.read_csv('INR=X.csv')\n",
    "stockdata = pd.read_csv('RELIANCE.NS.csv')\n",
    "\n",
    "#dropping unnecessary data\n",
    "stockdata.drop([\"Adj Close\", \"High\", \"Low\"], axis = 1, inplace = True)\n",
    "nifty.drop([\"Date\", \"Open\",\"Adj Close\", \"High\", \"Low\",\"Volume\"], axis = 1, inplace = True)\n",
    "currency.drop([\"Date\", \"Open\",\"Adj Close\", \"High\", \"Low\",\"Volume\"], axis = 1, inplace = True)\n",
    "\n",
    "#renaming columns\n",
    "nifty.rename(columns = {'Close':'NifClose'}, inplace = True)\n",
    "currency.rename(columns = {'Close':'CurClose'}, inplace = True)\n",
    "\n",
    "#joining datasets\n",
    "stockdata = stockdata.join(nifty)\n",
    "stockdata = stockdata.join(currency)\n",
    "\n",
    "#reshuffling columns\n",
    "stockdata = stockdata[['Date','NifClose','CurClose','Open','Volume','Close']]\n",
    "\n",
    "#converting to dat-time format\n",
    "stockdata['Date'] = pd.to_datetime(stockdata['Date'])\n",
    "\n",
    "#filling missing values\n",
    "stockdata = stockdata.fillna(method ='pad')\n",
    "count = stockdata.isnull().sum()\n",
    "\n",
    "#saving the csv file\n",
    "stockdata.to_csv('final.csv')\n",
    "\n",
    "\n",
    "X = stockdata.iloc[:, 2:-1].values\n",
    "y = stockdata.iloc[:, -1].values\n",
    "\n"
   ]
  },
  {
   "cell_type": "code",
   "execution_count": 11,
   "metadata": {},
   "outputs": [
    {
     "name": "stdout",
     "output_type": "stream",
     "text": [
      "          NifClose  CurClose      Open    Volume     Close\n",
      "NifClose  1.000000  0.825313  0.927163  0.103716  0.927612\n",
      "CurClose  0.825313  1.000000  0.814126  0.288923  0.813891\n",
      "Open      0.927163  0.814126  1.000000  0.239821  0.999556\n",
      "Volume    0.103716  0.288923  0.239821  1.000000  0.242357\n",
      "Close     0.927612  0.813891  0.999556  0.242357  1.000000\n"
     ]
    },
    {
     "data": {
      "image/png": "[encoded data removed]",
      "text/plain": [
       "<Figure size 432x288 with 2 Axes>"
      ]
     },
     "metadata": {
      "needs_background": "light"
     },
     "output_type": "display_data"
    }
   ],
   "source": [
    "print(stockdata.corr())\n",
    "  \n",
    "# plotting correlation heatmap\n",
    "dataplot = sb.heatmap(stockdata.corr(), cmap=\"YlGnBu\", annot=True)"
   ]
  },
  {
   "cell_type": "code",
   "execution_count": 34,
   "metadata": {},
   "outputs": [
    {
     "name": "stdout",
     "output_type": "stream",
     "text": [
      "Old Shape:  (2281, 6)\n"
     ]
    },
    {
     "name": "stderr",
     "output_type": "stream",
     "text": [
      "C:\\Users\\s540\\AppData\\Local\\Temp\\ipykernel_26404\\441172669.py:1: DeprecationWarning: the `interpolation=` argument to percentile was renamed to `method=`, which has additional options.\n",
      "Users of the modes 'nearest', 'lower', 'higher', or 'midpoint' are encouraged to review the method they. (Deprecated NumPy 1.22)\n",
      "  Q1 = np.percentile(stockdata['Volume'], 25,\n",
      "C:\\Users\\s540\\AppData\\Local\\Temp\\ipykernel_26404\\441172669.py:4: DeprecationWarning: the `interpolation=` argument to percentile was renamed to `method=`, which has additional options.\n",
      "Users of the modes 'nearest', 'lower', 'higher', or 'midpoint' are encouraged to review the method they. (Deprecated NumPy 1.22)\n",
      "  Q3 = np.percentile(stockdata['Volume'], 75,\n"
     ]
    },
    {
     "ename": "KeyError",
     "evalue": "'[1239, 1951, 1956, 1981, 1983, 1987, 1988, 1991, 1992, 2011] not found in axis'",
     "output_type": "error",
     "traceback": [
      "\u001b[1;31m---------------------------------------------------------------------------\u001b[0m",
      "\u001b[1;31mKeyError\u001b[0m                                  Traceback (most recent call last)",
      "\u001b[1;32me:\\SNU\\OneDrive - Shiv Nadar University\\COURSES\\EED\\EED 363 Applied Machine Learning\\Stock Market Predictor\\reg.ipynb Cell 8'\u001b[0m in \u001b[0;36m<module>\u001b[1;34m\u001b[0m\n\u001b[0;32m     <a href='vscode-notebook-cell:/e%3A/SNU/OneDrive%20-%20Shiv%20Nadar%20University/COURSES/EED/EED%20363%20Applied%20Machine%20Learning/Stock%20Market%20Predictor/reg.ipynb#ch0000021?line=12'>13</a>\u001b[0m lower \u001b[39m=\u001b[39m np\u001b[39m.\u001b[39mwhere(stockdata[\u001b[39m'\u001b[39m\u001b[39mVolume\u001b[39m\u001b[39m'\u001b[39m] \u001b[39m<\u001b[39m\u001b[39m=\u001b[39m (Q1\u001b[39m-\u001b[39m\u001b[39m1.5\u001b[39m\u001b[39m*\u001b[39mIQR))\n\u001b[0;32m     <a href='vscode-notebook-cell:/e%3A/SNU/OneDrive%20-%20Shiv%20Nadar%20University/COURSES/EED/EED%20363%20Applied%20Machine%20Learning/Stock%20Market%20Predictor/reg.ipynb#ch0000021?line=14'>15</a>\u001b[0m \u001b[39m''' Removing the Outliers '''\u001b[39;00m\n\u001b[1;32m---> <a href='vscode-notebook-cell:/e%3A/SNU/OneDrive%20-%20Shiv%20Nadar%20University/COURSES/EED/EED%20363%20Applied%20Machine%20Learning/Stock%20Market%20Predictor/reg.ipynb#ch0000021?line=15'>16</a>\u001b[0m stockdata\u001b[39m.\u001b[39;49mdrop(upper[\u001b[39m0\u001b[39;49m], inplace \u001b[39m=\u001b[39;49m \u001b[39mTrue\u001b[39;49;00m)\n\u001b[0;32m     <a href='vscode-notebook-cell:/e%3A/SNU/OneDrive%20-%20Shiv%20Nadar%20University/COURSES/EED/EED%20363%20Applied%20Machine%20Learning/Stock%20Market%20Predictor/reg.ipynb#ch0000021?line=16'>17</a>\u001b[0m stockdata\u001b[39m.\u001b[39mdrop(lower[\u001b[39m0\u001b[39m], inplace \u001b[39m=\u001b[39m \u001b[39mTrue\u001b[39;00m)\n\u001b[0;32m     <a href='vscode-notebook-cell:/e%3A/SNU/OneDrive%20-%20Shiv%20Nadar%20University/COURSES/EED/EED%20363%20Applied%20Machine%20Learning/Stock%20Market%20Predictor/reg.ipynb#ch0000021?line=18'>19</a>\u001b[0m \u001b[39mprint\u001b[39m(\u001b[39m\"\u001b[39m\u001b[39mNew Shape: \u001b[39m\u001b[39m\"\u001b[39m, stockdata\u001b[39m.\u001b[39mshape)\n",
      "File \u001b[1;32m~\\AppData\\Local\\Programs\\Python\\Python310\\lib\\site-packages\\pandas\\util\\_decorators.py:311\u001b[0m, in \u001b[0;36mdeprecate_nonkeyword_arguments.<locals>.decorate.<locals>.wrapper\u001b[1;34m(*args, **kwargs)\u001b[0m\n\u001b[0;32m    <a href='file:///c%3A/Users/s540/AppData/Local/Programs/Python/Python310/lib/site-packages/pandas/util/_decorators.py?line=304'>305</a>\u001b[0m \u001b[39mif\u001b[39;00m \u001b[39mlen\u001b[39m(args) \u001b[39m>\u001b[39m num_allow_args:\n\u001b[0;32m    <a href='file:///c%3A/Users/s540/AppData/Local/Programs/Python/Python310/lib/site-packages/pandas/util/_decorators.py?line=305'>306</a>\u001b[0m     warnings\u001b[39m.\u001b[39mwarn(\n\u001b[0;32m    <a href='file:///c%3A/Users/s540/AppData/Local/Programs/Python/Python310/lib/site-packages/pandas/util/_decorators.py?line=306'>307</a>\u001b[0m         msg\u001b[39m.\u001b[39mformat(arguments\u001b[39m=\u001b[39marguments),\n\u001b[0;32m    <a href='file:///c%3A/Users/s540/AppData/Local/Programs/Python/Python310/lib/site-packages/pandas/util/_decorators.py?line=307'>308</a>\u001b[0m         \u001b[39mFutureWarning\u001b[39;00m,\n\u001b[0;32m    <a href='file:///c%3A/Users/s540/AppData/Local/Programs/Python/Python310/lib/site-packages/pandas/util/_decorators.py?line=308'>309</a>\u001b[0m         stacklevel\u001b[39m=\u001b[39mstacklevel,\n\u001b[0;32m    <a href='file:///c%3A/Users/s540/AppData/Local/Programs/Python/Python310/lib/site-packages/pandas/util/_decorators.py?line=309'>310</a>\u001b[0m     )\n\u001b[1;32m--> <a href='file:///c%3A/Users/s540/AppData/Local/Programs/Python/Python310/lib/site-packages/pandas/util/_decorators.py?line=310'>311</a>\u001b[0m \u001b[39mreturn\u001b[39;00m func(\u001b[39m*\u001b[39margs, \u001b[39m*\u001b[39m\u001b[39m*\u001b[39mkwargs)\n",
      "File \u001b[1;32m~\\AppData\\Local\\Programs\\Python\\Python310\\lib\\site-packages\\pandas\\core\\frame.py:4948\u001b[0m, in \u001b[0;36mDataFrame.drop\u001b[1;34m(self, labels, axis, index, columns, level, inplace, errors)\u001b[0m\n\u001b[0;32m   <a href='file:///c%3A/Users/s540/AppData/Local/Programs/Python/Python310/lib/site-packages/pandas/core/frame.py?line=4799'>4800</a>\u001b[0m \u001b[39m@deprecate_nonkeyword_arguments\u001b[39m(version\u001b[39m=\u001b[39m\u001b[39mNone\u001b[39;00m, allowed_args\u001b[39m=\u001b[39m[\u001b[39m\"\u001b[39m\u001b[39mself\u001b[39m\u001b[39m\"\u001b[39m, \u001b[39m\"\u001b[39m\u001b[39mlabels\u001b[39m\u001b[39m\"\u001b[39m])\n\u001b[0;32m   <a href='file:///c%3A/Users/s540/AppData/Local/Programs/Python/Python310/lib/site-packages/pandas/core/frame.py?line=4800'>4801</a>\u001b[0m \u001b[39mdef\u001b[39;00m \u001b[39mdrop\u001b[39m(\n\u001b[0;32m   <a href='file:///c%3A/Users/s540/AppData/Local/Programs/Python/Python310/lib/site-packages/pandas/core/frame.py?line=4801'>4802</a>\u001b[0m     \u001b[39mself\u001b[39m,\n\u001b[1;32m   (...)\u001b[0m\n\u001b[0;32m   <a href='file:///c%3A/Users/s540/AppData/Local/Programs/Python/Python310/lib/site-packages/pandas/core/frame.py?line=4808'>4809</a>\u001b[0m     errors: \u001b[39mstr\u001b[39m \u001b[39m=\u001b[39m \u001b[39m\"\u001b[39m\u001b[39mraise\u001b[39m\u001b[39m\"\u001b[39m,\n\u001b[0;32m   <a href='file:///c%3A/Users/s540/AppData/Local/Programs/Python/Python310/lib/site-packages/pandas/core/frame.py?line=4809'>4810</a>\u001b[0m ):\n\u001b[0;32m   <a href='file:///c%3A/Users/s540/AppData/Local/Programs/Python/Python310/lib/site-packages/pandas/core/frame.py?line=4810'>4811</a>\u001b[0m     \u001b[39m\"\"\"\u001b[39;00m\n\u001b[0;32m   <a href='file:///c%3A/Users/s540/AppData/Local/Programs/Python/Python310/lib/site-packages/pandas/core/frame.py?line=4811'>4812</a>\u001b[0m \u001b[39m    Drop specified labels from rows or columns.\u001b[39;00m\n\u001b[0;32m   <a href='file:///c%3A/Users/s540/AppData/Local/Programs/Python/Python310/lib/site-packages/pandas/core/frame.py?line=4812'>4813</a>\u001b[0m \n\u001b[1;32m   (...)\u001b[0m\n\u001b[0;32m   <a href='file:///c%3A/Users/s540/AppData/Local/Programs/Python/Python310/lib/site-packages/pandas/core/frame.py?line=4945'>4946</a>\u001b[0m \u001b[39m            weight  1.0     0.8\u001b[39;00m\n\u001b[0;32m   <a href='file:///c%3A/Users/s540/AppData/Local/Programs/Python/Python310/lib/site-packages/pandas/core/frame.py?line=4946'>4947</a>\u001b[0m \u001b[39m    \"\"\"\u001b[39;00m\n\u001b[1;32m-> <a href='file:///c%3A/Users/s540/AppData/Local/Programs/Python/Python310/lib/site-packages/pandas/core/frame.py?line=4947'>4948</a>\u001b[0m     \u001b[39mreturn\u001b[39;00m \u001b[39msuper\u001b[39;49m()\u001b[39m.\u001b[39;49mdrop(\n\u001b[0;32m   <a href='file:///c%3A/Users/s540/AppData/Local/Programs/Python/Python310/lib/site-packages/pandas/core/frame.py?line=4948'>4949</a>\u001b[0m         labels\u001b[39m=\u001b[39;49mlabels,\n\u001b[0;32m   <a href='file:///c%3A/Users/s540/AppData/Local/Programs/Python/Python310/lib/site-packages/pandas/core/frame.py?line=4949'>4950</a>\u001b[0m         axis\u001b[39m=\u001b[39;49maxis,\n\u001b[0;32m   <a href='file:///c%3A/Users/s540/AppData/Local/Programs/Python/Python310/lib/site-packages/pandas/core/frame.py?line=4950'>4951</a>\u001b[0m         index\u001b[39m=\u001b[39;49mindex,\n\u001b[0;32m   <a href='file:///c%3A/Users/s540/AppData/Local/Programs/Python/Python310/lib/site-packages/pandas/core/frame.py?line=4951'>4952</a>\u001b[0m         columns\u001b[39m=\u001b[39;49mcolumns,\n\u001b[0;32m   <a href='file:///c%3A/Users/s540/AppData/Local/Programs/Python/Python310/lib/site-packages/pandas/core/frame.py?line=4952'>4953</a>\u001b[0m         level\u001b[39m=\u001b[39;49mlevel,\n\u001b[0;32m   <a href='file:///c%3A/Users/s540/AppData/Local/Programs/Python/Python310/lib/site-packages/pandas/core/frame.py?line=4953'>4954</a>\u001b[0m         inplace\u001b[39m=\u001b[39;49minplace,\n\u001b[0;32m   <a href='file:///c%3A/Users/s540/AppData/Local/Programs/Python/Python310/lib/site-packages/pandas/core/frame.py?line=4954'>4955</a>\u001b[0m         errors\u001b[39m=\u001b[39;49merrors,\n\u001b[0;32m   <a href='file:///c%3A/Users/s540/AppData/Local/Programs/Python/Python310/lib/site-packages/pandas/core/frame.py?line=4955'>4956</a>\u001b[0m     )\n",
      "File \u001b[1;32m~\\AppData\\Local\\Programs\\Python\\Python310\\lib\\site-packages\\pandas\\core\\generic.py:4279\u001b[0m, in \u001b[0;36mNDFrame.drop\u001b[1;34m(self, labels, axis, index, columns, level, inplace, errors)\u001b[0m\n\u001b[0;32m   <a href='file:///c%3A/Users/s540/AppData/Local/Programs/Python/Python310/lib/site-packages/pandas/core/generic.py?line=4276'>4277</a>\u001b[0m \u001b[39mfor\u001b[39;00m axis, labels \u001b[39min\u001b[39;00m axes\u001b[39m.\u001b[39mitems():\n\u001b[0;32m   <a href='file:///c%3A/Users/s540/AppData/Local/Programs/Python/Python310/lib/site-packages/pandas/core/generic.py?line=4277'>4278</a>\u001b[0m     \u001b[39mif\u001b[39;00m labels \u001b[39mis\u001b[39;00m \u001b[39mnot\u001b[39;00m \u001b[39mNone\u001b[39;00m:\n\u001b[1;32m-> <a href='file:///c%3A/Users/s540/AppData/Local/Programs/Python/Python310/lib/site-packages/pandas/core/generic.py?line=4278'>4279</a>\u001b[0m         obj \u001b[39m=\u001b[39m obj\u001b[39m.\u001b[39;49m_drop_axis(labels, axis, level\u001b[39m=\u001b[39;49mlevel, errors\u001b[39m=\u001b[39;49merrors)\n\u001b[0;32m   <a href='file:///c%3A/Users/s540/AppData/Local/Programs/Python/Python310/lib/site-packages/pandas/core/generic.py?line=4280'>4281</a>\u001b[0m \u001b[39mif\u001b[39;00m inplace:\n\u001b[0;32m   <a href='file:///c%3A/Users/s540/AppData/Local/Programs/Python/Python310/lib/site-packages/pandas/core/generic.py?line=4281'>4282</a>\u001b[0m     \u001b[39mself\u001b[39m\u001b[39m.\u001b[39m_update_inplace(obj)\n",
      "File \u001b[1;32m~\\AppData\\Local\\Programs\\Python\\Python310\\lib\\site-packages\\pandas\\core\\generic.py:4323\u001b[0m, in \u001b[0;36mNDFrame._drop_axis\u001b[1;34m(self, labels, axis, level, errors, consolidate, only_slice)\u001b[0m\n\u001b[0;32m   <a href='file:///c%3A/Users/s540/AppData/Local/Programs/Python/Python310/lib/site-packages/pandas/core/generic.py?line=4320'>4321</a>\u001b[0m         new_axis \u001b[39m=\u001b[39m axis\u001b[39m.\u001b[39mdrop(labels, level\u001b[39m=\u001b[39mlevel, errors\u001b[39m=\u001b[39merrors)\n\u001b[0;32m   <a href='file:///c%3A/Users/s540/AppData/Local/Programs/Python/Python310/lib/site-packages/pandas/core/generic.py?line=4321'>4322</a>\u001b[0m     \u001b[39melse\u001b[39;00m:\n\u001b[1;32m-> <a href='file:///c%3A/Users/s540/AppData/Local/Programs/Python/Python310/lib/site-packages/pandas/core/generic.py?line=4322'>4323</a>\u001b[0m         new_axis \u001b[39m=\u001b[39m axis\u001b[39m.\u001b[39;49mdrop(labels, errors\u001b[39m=\u001b[39;49merrors)\n\u001b[0;32m   <a href='file:///c%3A/Users/s540/AppData/Local/Programs/Python/Python310/lib/site-packages/pandas/core/generic.py?line=4323'>4324</a>\u001b[0m     indexer \u001b[39m=\u001b[39m axis\u001b[39m.\u001b[39mget_indexer(new_axis)\n\u001b[0;32m   <a href='file:///c%3A/Users/s540/AppData/Local/Programs/Python/Python310/lib/site-packages/pandas/core/generic.py?line=4325'>4326</a>\u001b[0m \u001b[39m# Case for non-unique axis\u001b[39;00m\n\u001b[0;32m   <a href='file:///c%3A/Users/s540/AppData/Local/Programs/Python/Python310/lib/site-packages/pandas/core/generic.py?line=4326'>4327</a>\u001b[0m \u001b[39melse\u001b[39;00m:\n",
      "File \u001b[1;32m~\\AppData\\Local\\Programs\\Python\\Python310\\lib\\site-packages\\pandas\\core\\indexes\\base.py:6644\u001b[0m, in \u001b[0;36mIndex.drop\u001b[1;34m(self, labels, errors)\u001b[0m\n\u001b[0;32m   <a href='file:///c%3A/Users/s540/AppData/Local/Programs/Python/Python310/lib/site-packages/pandas/core/indexes/base.py?line=6641'>6642</a>\u001b[0m \u001b[39mif\u001b[39;00m mask\u001b[39m.\u001b[39many():\n\u001b[0;32m   <a href='file:///c%3A/Users/s540/AppData/Local/Programs/Python/Python310/lib/site-packages/pandas/core/indexes/base.py?line=6642'>6643</a>\u001b[0m     \u001b[39mif\u001b[39;00m errors \u001b[39m!=\u001b[39m \u001b[39m\"\u001b[39m\u001b[39mignore\u001b[39m\u001b[39m\"\u001b[39m:\n\u001b[1;32m-> <a href='file:///c%3A/Users/s540/AppData/Local/Programs/Python/Python310/lib/site-packages/pandas/core/indexes/base.py?line=6643'>6644</a>\u001b[0m         \u001b[39mraise\u001b[39;00m \u001b[39mKeyError\u001b[39;00m(\u001b[39mf\u001b[39m\u001b[39m\"\u001b[39m\u001b[39m{\u001b[39;00m\u001b[39mlist\u001b[39m(labels[mask])\u001b[39m}\u001b[39;00m\u001b[39m not found in axis\u001b[39m\u001b[39m\"\u001b[39m)\n\u001b[0;32m   <a href='file:///c%3A/Users/s540/AppData/Local/Programs/Python/Python310/lib/site-packages/pandas/core/indexes/base.py?line=6644'>6645</a>\u001b[0m     indexer \u001b[39m=\u001b[39m indexer[\u001b[39m~\u001b[39mmask]\n\u001b[0;32m   <a href='file:///c%3A/Users/s540/AppData/Local/Programs/Python/Python310/lib/site-packages/pandas/core/indexes/base.py?line=6645'>6646</a>\u001b[0m \u001b[39mreturn\u001b[39;00m \u001b[39mself\u001b[39m\u001b[39m.\u001b[39mdelete(indexer)\n",
      "\u001b[1;31mKeyError\u001b[0m: '[1239, 1951, 1956, 1981, 1983, 1987, 1988, 1991, 1992, 2011] not found in axis'"
     ]
    }
   ],
   "source": [
    "\n",
    "\n",
    "Q1 = np.percentile(stockdata['Volume'], 25,\n",
    "                   interpolation = 'midpoint')\n",
    " \n",
    "Q3 = np.percentile(stockdata['Volume'], 75,\n",
    "                   interpolation = 'midpoint')\n",
    "IQR = Q3 - Q1\n",
    " \n",
    "print(\"Old Shape: \", stockdata.shape)\n",
    " \n",
    "# Upper bound\n",
    "upper = np.where(stockdata['Volume'] >= (Q3+1.5*IQR))\n",
    "# Lower bound\n",
    "lower = np.where(stockdata['Volume'] <= (Q1-1.5*IQR))\n",
    " \n",
    "''' Removing the Outliers '''\n",
    "stockdata.drop(upper[0], inplace = True)\n",
    "stockdata.drop(lower[0], inplace = True)\n",
    " \n",
    "print(\"New Shape: \", stockdata.shape)"
   ]
  },
  {
   "cell_type": "code",
   "execution_count": 30,
   "metadata": {},
   "outputs": [
    {
     "name": "stderr",
     "output_type": "stream",
     "text": [
      "C:\\Users\\s540\\AppData\\Local\\Programs\\Python\\Python310\\lib\\site-packages\\seaborn\\_decorators.py:36: FutureWarning: Pass the following variable as a keyword arg: x. From version 0.12, the only valid positional argument will be `data`, and passing other arguments without an explicit keyword will result in an error or misinterpretation.\n",
      "  warnings.warn(\n"
     ]
    },
    {
     "data": {
      "text/plain": [
       "<AxesSubplot:xlabel='Volume'>"
      ]
     },
     "execution_count": 30,
     "metadata": {},
     "output_type": "execute_result"
    },
    {
     "data": {
      "image/png": "[encoded data removed]",
      "text/plain": [
       "<Figure size 432x288 with 1 Axes>"
      ]
     },
     "metadata": {
      "needs_background": "light"
     },
     "output_type": "display_data"
    }
   ],
   "source": [
    "sb.boxplot(stockdata['Volume'])\n",
    "# IQR"
   ]
  },
  {
   "cell_type": "code",
   "execution_count": 9,
   "metadata": {},
   "outputs": [
    {
     "data": {
      "text/plain": [
       "<matplotlib.collections.PathCollection at 0x28ad45da500>"
      ]
     },
     "execution_count": 9,
     "metadata": {},
     "output_type": "execute_result"
    },
    {
     "data": {
      "image/png": "[encoded data removed]",
      "text/plain": [
       "<Figure size 432x288 with 1 Axes>"
      ]
     },
     "metadata": {
      "needs_background": "light"
     },
     "output_type": "display_data"
    }
   ],
   "source": [
    "plt.scatter(stockdata['Volume'],stockdata['Open'])"
   ]
  },
  {
   "cell_type": "markdown",
   "metadata": {},
   "source": [
    "#### Looking at the Data briefly"
   ]
  },
  {
   "cell_type": "code",
   "execution_count": 13,
   "metadata": {},
   "outputs": [
    {
     "name": "stdout",
     "output_type": "stream",
     "text": [
      "<class 'pandas.core.frame.DataFrame'>\n",
      "RangeIndex: 2469 entries, 0 to 2468\n",
      "Data columns (total 6 columns):\n",
      " #   Column    Non-Null Count  Dtype         \n",
      "---  ------    --------------  -----         \n",
      " 0   Date      2469 non-null   datetime64[ns]\n",
      " 1   NifClose  2469 non-null   float64       \n",
      " 2   CurClose  2469 non-null   float64       \n",
      " 3   Open      2469 non-null   float64       \n",
      " 4   Volume    2469 non-null   float64       \n",
      " 5   Close     2469 non-null   float64       \n",
      "dtypes: datetime64[ns](1), float64(5)\n",
      "memory usage: 115.9 KB\n"
     ]
    },
    {
     "data": {
      "text/html": [
       "<div>\n",
       "<style scoped>\n",
       "    .dataframe tbody tr th:only-of-type {\n",
       "        vertical-align: middle;\n",
       "    }\n",
       "\n",
       "    .dataframe tbody tr th {\n",
       "        vertical-align: top;\n",
       "    }\n",
       "\n",
       "    .dataframe thead th {\n",
       "        text-align: right;\n",
       "    }\n",
       "</style>\n",
       "<table border=\"1\" class=\"dataframe\">\n",
       "  <thead>\n",
       "    <tr style=\"text-align: right;\">\n",
       "      <th></th>\n",
       "      <th>NifClose</th>\n",
       "      <th>CurClose</th>\n",
       "      <th>Open</th>\n",
       "      <th>Volume</th>\n",
       "      <th>Close</th>\n",
       "    </tr>\n",
       "  </thead>\n",
       "  <tbody>\n",
       "    <tr>\n",
       "      <th>count</th>\n",
       "      <td>2469.000000</td>\n",
       "      <td>2469.000000</td>\n",
       "      <td>2469.000000</td>\n",
       "      <td>2.469000e+03</td>\n",
       "      <td>2469.000000</td>\n",
       "    </tr>\n",
       "    <tr>\n",
       "      <th>mean</th>\n",
       "      <td>9741.677645</td>\n",
       "      <td>65.861045</td>\n",
       "      <td>985.185924</td>\n",
       "      <td>8.568893e+06</td>\n",
       "      <td>984.425674</td>\n",
       "    </tr>\n",
       "    <tr>\n",
       "      <th>std</th>\n",
       "      <td>3260.070355</td>\n",
       "      <td>6.112106</td>\n",
       "      <td>667.160579</td>\n",
       "      <td>6.163739e+06</td>\n",
       "      <td>666.411332</td>\n",
       "    </tr>\n",
       "    <tr>\n",
       "      <th>min</th>\n",
       "      <td>4835.649902</td>\n",
       "      <td>51.467999</td>\n",
       "      <td>334.330872</td>\n",
       "      <td>0.000000e+00</td>\n",
       "      <td>334.875702</td>\n",
       "    </tr>\n",
       "    <tr>\n",
       "      <th>25%</th>\n",
       "      <td>7640.450195</td>\n",
       "      <td>61.959999</td>\n",
       "      <td>449.241638</td>\n",
       "      <td>5.127612e+06</td>\n",
       "      <td>449.167328</td>\n",
       "    </tr>\n",
       "    <tr>\n",
       "      <th>50%</th>\n",
       "      <td>9039.250000</td>\n",
       "      <td>66.319000</td>\n",
       "      <td>657.022095</td>\n",
       "      <td>6.821782e+06</td>\n",
       "      <td>656.155273</td>\n",
       "    </tr>\n",
       "    <tr>\n",
       "      <th>75%</th>\n",
       "      <td>11319.549805</td>\n",
       "      <td>71.035004</td>\n",
       "      <td>1337.472046</td>\n",
       "      <td>9.676173e+06</td>\n",
       "      <td>1331.132202</td>\n",
       "    </tr>\n",
       "    <tr>\n",
       "      <th>max</th>\n",
       "      <td>18477.050781</td>\n",
       "      <td>77.570000</td>\n",
       "      <td>2742.750000</td>\n",
       "      <td>6.584835e+07</td>\n",
       "      <td>2731.850098</td>\n",
       "    </tr>\n",
       "  </tbody>\n",
       "</table>\n",
       "</div>"
      ],
      "text/plain": [
       "           NifClose     CurClose         Open        Volume        Close\n",
       "count   2469.000000  2469.000000  2469.000000  2.469000e+03  2469.000000\n",
       "mean    9741.677645    65.861045   985.185924  8.568893e+06   984.425674\n",
       "std     3260.070355     6.112106   667.160579  6.163739e+06   666.411332\n",
       "min     4835.649902    51.467999   334.330872  0.000000e+00   334.875702\n",
       "25%     7640.450195    61.959999   449.241638  5.127612e+06   449.167328\n",
       "50%     9039.250000    66.319000   657.022095  6.821782e+06   656.155273\n",
       "75%    11319.549805    71.035004  1337.472046  9.676173e+06  1331.132202\n",
       "max    18477.050781    77.570000  2742.750000  6.584835e+07  2731.850098"
      ]
     },
     "execution_count": 13,
     "metadata": {},
     "output_type": "execute_result"
    }
   ],
   "source": [
    "\n",
    "stockdata.info()\n",
    "stockdata.describe()"
   ]
  },
  {
   "cell_type": "markdown",
   "metadata": {},
   "source": [
    "#### Splitting the Dataset"
   ]
  },
  {
   "cell_type": "code",
   "execution_count": 14,
   "metadata": {},
   "outputs": [],
   "source": [
    "splitRatio = 0.8 # 80% --> training data; 20% --> testing data\n",
    "X_train = X[:int(X.shape[0]*splitRatio)]\n",
    "X_test = X[int(X.shape[0]*splitRatio):]\n",
    "y_train = y[:int(X.shape[0]*splitRatio)]\n",
    "y_test = y[int(X.shape[0]*splitRatio):]"
   ]
  },
  {
   "cell_type": "markdown",
   "metadata": {},
   "source": [
    "#### Feature Scaling "
   ]
  },
  {
   "cell_type": "code",
   "execution_count": 15,
   "metadata": {},
   "outputs": [],
   "source": [
    "from sklearn.preprocessing import StandardScaler\n",
    "sc = StandardScaler()\n",
    "X_train[:, 1:] = sc.fit_transform(X_train[:, 1:])\n",
    "X_test[:, 1:] = sc.transform(X_test[:, 1:])"
   ]
  },
  {
   "cell_type": "markdown",
   "metadata": {},
   "source": [
    "## Linear Regression Model"
   ]
  },
  {
   "cell_type": "code",
   "execution_count": 16,
   "metadata": {},
   "outputs": [],
   "source": [
    "from sklearn.linear_model import LinearRegression\n",
    "lm = LinearRegression()\n",
    "lm.fit(X_train, y_train)\n",
    "y_pred = lm.predict(X_test)"
   ]
  },
  {
   "cell_type": "code",
   "execution_count": 17,
   "metadata": {},
   "outputs": [
    {
     "name": "stdout",
     "output_type": "stream",
     "text": [
      "[[1361.44 1358.03]\n",
      " [1358.35 1403.69]\n",
      " [1425.83 1416.32]\n",
      " [1445.62 1414.74]\n",
      " [1432.4  1413.55]\n",
      " [1448.09 1452.23]\n",
      " [1430.75 1421.72]\n",
      " [1442.56 1446.93]\n",
      " [1451.85 1447.03]\n",
      " [1444.87 1492.8 ]\n",
      " [1540.52 1547.13]\n",
      " [1571.63 1561.99]\n",
      " [1563.33 1465.36]\n",
      " [1533.47 1496.45]\n",
      " [1472.27 1435.95]\n",
      " [1449.94 1459.4 ]\n",
      " [1475.97 1440.75]\n",
      " [1458.94 1408.9 ]\n",
      " [1414.7  1433.7 ]\n",
      " [1436.38 1441.25]\n",
      " [1452.85 1431.55]\n",
      " [1448.28 1424.05]\n",
      " [1431.69 1445.55]\n",
      " [1456.48 1472.25]\n",
      " [1469.41 1464.4 ]\n",
      " [1481.35 1520.35]\n",
      " [1523.63 1535.7 ]\n",
      " [1543.21 1541.65]\n",
      " [1543.97 1579.8 ]\n",
      " [1594.56 1581.7 ]\n",
      " [1617.54 1569.5 ]\n",
      " [1558.55 1537.15]\n",
      " [1540.67 1572.15]\n",
      " [1563.14 1537.7 ]\n",
      " [1501.01 1588.8 ]\n",
      " [1568.67 1614.55]\n",
      " [1645.99 1617.7 ]\n",
      " [1609.5  1615.35]\n",
      " [1607.99 1655.9 ]\n",
      " [1683.8  1759.4 ]\n",
      " [1777.71 1746.15]\n",
      " [1749.96 1720.9 ]\n",
      " [1738.64 1727.85]\n",
      " [1727.38 1717.9 ]\n",
      " [1727.42 1741.65]\n",
      " [1725.61 1723.15]\n",
      " [1735.46 1704.1 ]\n",
      " [1718.16 1737.6 ]\n",
      " [1741.14 1760.35]\n",
      " [1777.93 1787.9 ]\n",
      " [1806.55 1851.8 ]\n",
      " [1858.98 1823.45]\n",
      " [1821.37 1798.  ]\n",
      " [1808.42 1824.25]\n",
      " [1829.31 1878.05]\n",
      " [1909.04 1935.  ]\n",
      " [1939.12 1917.  ]\n",
      " [1957.49 1844.  ]\n",
      " [1851.18 1843.4 ]\n",
      " [1846.95 1911.7 ]\n",
      " [1916.85 1919.9 ]\n",
      " [1939.08 1971.55]\n",
      " [1986.42 2004.  ]\n",
      " [2007.01 2057.8 ]\n",
      " [2073.29 2146.15]\n",
      " [2185.59 2156.2 ]\n",
      " [2158.05 2177.7 ]\n",
      " [2183.17 2096.65]\n",
      " [2104.6  2108.85]\n",
      " [2120.46 2067.1 ]\n",
      " [2051.87 2009.  ]\n",
      " [2030.33 2150.6 ]\n",
      " [2174.68 2126.45]\n",
      " [2157.7  2134.1 ]\n",
      " [2127.35 2146.45]\n",
      " [2155.33 2119.85]\n",
      " [2135.09 2133.8 ]\n",
      " [2118.03 2127.6 ]\n",
      " [2123.92 2122.05]\n",
      " [2120.17 2113.8 ]\n",
      " [2102.24 2091.35]\n",
      " [2082.24 2118.55]\n",
      " [2138.75 2131.55]\n",
      " [2115.54 2097.05]\n",
      " [2114.09 2081.85]\n",
      " [2089.07 2095.75]\n",
      " [2100.97 2082.1 ]\n",
      " [2088.12 2137.3 ]\n",
      " [2144.55 2110.6 ]\n",
      " [2116.48 2116.15]\n",
      " [2177.22 2080.7 ]\n",
      " [2098.84 2087.25]\n",
      " [2088.52 2128.2 ]\n",
      " [2122.74 2112.1 ]\n",
      " [2080.43 2077.25]\n",
      " [2079.58 2082.65]\n",
      " [2088.66 2107.1 ]\n",
      " [2087.27 2161.35]\n",
      " [2201.94 2314.  ]\n",
      " [2314.2  2319.75]\n",
      " [2324.09 2302.55]\n",
      " [2307.72 2318.85]\n",
      " [2317.09 2324.55]\n",
      " [2315.51 2298.75]\n",
      " [2311.22 2305.7 ]\n",
      " [2297.11 2255.85]\n",
      " [2274.43 2211.15]\n",
      " [2259.14 2230.8 ]\n",
      " [2204.6  2181.2 ]\n",
      " [2185.49 2201.7 ]\n",
      " [2221.6  2216.25]\n",
      " [2220.86 2245.05]\n",
      " [2255.43 2234.35]\n",
      " [2258.51 2225.25]\n",
      " [2238.42 2212.2 ]\n",
      " [2219.62 2210.35]\n",
      " [2236.28 2257.5 ]\n",
      " [2253.78 2239.25]\n",
      " [2229.35 2233.45]\n",
      " [2228.49 2237.05]\n",
      " [2225.88 2280.7 ]\n",
      " [2274.72 2287.5 ]\n",
      " [2284.44 2206.5 ]\n",
      " [2210.01 2175.8 ]\n",
      " [2187.08 2176.2 ]\n",
      " [2173.53 2155.9 ]\n",
      " [2165.69 2124.6 ]\n",
      " [2124.6  2106.95]\n",
      " [2101.81 2113.05]\n",
      " [2100.54 2029.1 ]\n",
      " [2033.57 2034.5 ]\n",
      " [2039.15 2011.45]\n",
      " [1994.65 2026.9 ]\n",
      " [2031.68 2054.5 ]\n",
      " [2038.25 1877.45]\n",
      " [1899.64 1850.4 ]\n",
      " [1845.14 1913.2 ]\n",
      " [1954.07 1955.  ]\n",
      " [1994.87 2029.15]\n",
      " [2060.54 2050.7 ]\n",
      " [2075.61 2084.55]\n",
      " [2091.52 1997.2 ]\n",
      " [1980.59 1980.  ]\n",
      " [1982.66 1996.4 ]\n",
      " [2007.41 2002.3 ]\n",
      " [2085.49 1993.25]\n",
      " [1990.87 1987.2 ]\n",
      " [1984.3  1973.15]\n",
      " [1978.08 1899.5 ]\n",
      " [1951.75 1950.7 ]\n",
      " [1961.83 1964.05]\n",
      " [1978.11 1947.8 ]\n",
      " [1949.9  1952.6 ]\n",
      " [1941.7  1929.8 ]\n",
      " [1936.05 1954.9 ]\n",
      " [1954.61 1958.15]\n",
      " [1969.18 1964.05]\n",
      " [1964.34 1946.75]\n",
      " [1936.   1958.2 ]\n",
      " [1961.49 1993.75]\n",
      " [2007.27 2026.95]\n",
      " [2016.25 2007.  ]\n",
      " [2009.85 2005.8 ]\n",
      " [2002.9  1991.3 ]\n",
      " [1984.96 1974.35]\n",
      " [1983.27 1976.55]\n",
      " [1980.12 1985.6 ]\n",
      " [1975.38 1991.55]\n",
      " [2010.29 1939.7 ]\n",
      " [1946.31 1936.7 ]\n",
      " [1925.66 1943.85]\n",
      " [1942.85 1994.15]\n",
      " [2001.62 2003.3 ]\n",
      " [2004.19 1990.05]\n",
      " [1991.18 1995.5 ]\n",
      " [1988.78 1985.3 ]\n",
      " [1981.56 1987.5 ]\n",
      " [1991.53 1990.85]\n",
      " [1965.44 1966.1 ]\n",
      " [1966.8  1914.25]\n",
      " [1918.76 1911.15]\n",
      " [1915.31 1933.7 ]\n",
      " [1937.18 1897.25]\n",
      " [1903.08 1957.05]\n",
      " [1960.5  1938.8 ]\n",
      " [1941.01 1960.6 ]\n",
      " [1956.37 1937.45]\n",
      " [1947.81 1983.95]\n",
      " [1992.56 2016.4 ]\n",
      " [2019.   2054.7 ]\n",
      " [2081.   2099.4 ]\n",
      " [2108.19 2049.6 ]\n",
      " [2037.15 1941.  ]\n",
      " [1925.24 1895.  ]\n",
      " [1878.91 1876.55]\n",
      " [1894.93 1841.95]\n",
      " [1858.26 1895.3 ]\n",
      " [1914.36 1925.8 ]\n",
      " [1926.12 1930.65]\n",
      " [1920.91 1924.3 ]\n",
      " [1925.86 1923.75]\n",
      " [1929.04 1951.45]\n",
      " [1957.51 1956.15]\n",
      " [1949.67 1974.3 ]\n",
      " [1980.07 2055.7 ]\n",
      " [2052.88 2041.6 ]\n",
      " [2042.52 2032.6 ]\n",
      " [2035.37 2059.5 ]\n",
      " [2056.01 2083.25]\n",
      " [2079.89 2067.7 ]\n",
      " [2052.93 2080.3 ]\n",
      " [2075.93 2008.1 ]\n",
      " [2044.41 2023.45]\n",
      " [2023.52 2061.  ]\n",
      " [2074.15 2144.35]\n",
      " [2115.51 2085.8 ]\n",
      " [2104.79 2101.7 ]\n",
      " [2116.45 2106.  ]\n",
      " [2118.45 2202.1 ]\n",
      " [2175.08 2175.85]\n",
      " [2151.98 2178.7 ]\n",
      " [2163.24 2191.1 ]\n",
      " [2193.76 2191.05]\n",
      " [2200.   2181.95]\n",
      " [2189.11 2137.6 ]\n",
      " [2134.33 2108.9 ]\n",
      " [2107.82 2100.6 ]\n",
      " [2092.99 2055.35]\n",
      " [2068.23 2009.1 ]\n",
      " [1990.86 2082.  ]\n",
      " [2065.92 2062.4 ]\n",
      " [2056.68 2087.5 ]\n",
      " [2074.29 2047.3 ]\n",
      " [2049.67 1991.45]\n",
      " [2007.45 1994.65]\n",
      " [2003.52 2029.3 ]\n",
      " [2012.65 2003.1 ]\n",
      " [2011.76 2021.85]\n",
      " [2019.3  1992.6 ]\n",
      " [1998.25 1984.3 ]\n",
      " [1996.31 2002.85]\n",
      " [2005.5  2005.35]\n",
      " [1992.74 1982.05]\n",
      " [1954.8  1911.15]\n",
      " [1919.64 1931.8 ]\n",
      " [1921.99 1944.3 ]\n",
      " [1931.44 1932.1 ]\n",
      " [1899.53 1901.7 ]\n",
      " [1905.75 1901.15]\n",
      " [1887.03 1906.4 ]\n",
      " [1900.2  1904.35]\n",
      " [1915.95 1937.85]\n",
      " [1935.7  1988.65]\n",
      " [1992.77 1997.3 ]\n",
      " [2017.78 2024.05]\n",
      " [2003.92 1994.5 ]\n",
      " [1962.34 1959.05]\n",
      " [1946.05 1916.6 ]\n",
      " [1917.61 1920.1 ]\n",
      " [1916.55 1931.  ]\n",
      " [1931.92 1931.75]\n",
      " [1933.5  1926.2 ]\n",
      " [1909.5  1933.15]\n",
      " [1924.49 1913.15]\n",
      " [1922.48 1937.3 ]\n",
      " [1931.4  1960.35]\n",
      " [1974.98 1987.95]\n",
      " [1974.83 1997.05]\n",
      " [1991.68 1985.4 ]\n",
      " [1985.67 2002.55]\n",
      " [2001.17 1985.65]\n",
      " [1990.86 1963.15]\n",
      " [1968.07 1970.05]\n",
      " [1967.25 1976.1 ]\n",
      " [1992.8  2094.8 ]\n",
      " [2104.9  2160.3 ]\n",
      " [2162.45 2168.9 ]\n",
      " [2152.81 2201.25]\n",
      " [2216.43 2209.65]\n",
      " [2208.36 2190.5 ]\n",
      " [2195.98 2227.4 ]\n",
      " [2219.17 2214.6 ]\n",
      " [2211.94 2175.  ]\n",
      " [2186.98 2183.  ]\n",
      " [2176.44 2213.15]\n",
      " [2209.73 2244.9 ]\n",
      " [2254.53 2250.  ]\n",
      " [2237.62 2211.6 ]\n",
      " [2193.87 2215.65]\n",
      " [2221.99 2225.65]\n",
      " [2196.65 2237.25]\n",
      " [2247.1  2225.75]\n",
      " [2243.88 2205.35]\n",
      " [2215.81 2153.5 ]\n",
      " [2155.45 2104.45]\n",
      " [2117.07 2086.  ]\n",
      " [2086.06 2087.8 ]\n",
      " [2091.31 2110.65]\n",
      " [2111.53 2097.95]\n",
      " [2090.92 2129.05]\n",
      " [2129.74 2150.2 ]\n",
      " [2137.89 2124.8 ]\n",
      " [2120.83 2110.05]\n",
      " [2110.22 2092.6 ]\n",
      " [2080.95 2071.2 ]\n",
      " [2072.64 2084.1 ]\n",
      " [2092.44 2099.7 ]\n",
      " [2093.15 2086.  ]\n",
      " [2088.   2082.35]\n",
      " [2080.65 2112.4 ]\n",
      " [2092.76 2098.95]\n",
      " [2091.94 2093.8 ]\n",
      " [2111.62 2120.7 ]\n",
      " [2127.39 2105.7 ]\n",
      " [2101.53 2076.85]\n",
      " [2070.14 2055.  ]\n",
      " [2051.82 2037.35]\n",
      " [2048.01 2053.25]\n",
      " [2051.52 2035.3 ]\n",
      " [2047.74 2072.5 ]\n",
      " [2083.49 2087.75]\n",
      " [2088.14 2103.75]\n",
      " [2109.58 2134.25]\n",
      " [2124.24 2089.05]\n",
      " [2073.66 2077.15]\n",
      " [2075.53 2088.05]\n",
      " [2089.88 2117.3 ]\n",
      " [2117.52 2110.5 ]\n",
      " [2110.87 2145.65]\n",
      " [2144.63 2173.5 ]\n",
      " [2162.2  2164.25]\n",
      " [2166.82 2172.65]\n",
      " [2135.81 2148.25]\n",
      " [2166.78 2162.35]\n",
      " [2158.26 2183.7 ]\n",
      " [2178.83 2202.6 ]\n",
      " [2202.38 2230.45]\n",
      " [2229.66 2227.4 ]\n",
      " [2243.32 2270.25]\n",
      " [2272.62 2258.15]\n",
      " [2265.68 2267.1 ]\n",
      " [2247.5  2294.4 ]\n",
      " [2306.43 2388.5 ]\n",
      " [2409.63 2425.6 ]\n",
      " [2423.32 2440.9 ]\n",
      " [2444.62 2431.35]\n",
      " [2419.55 2425.6 ]\n",
      " [2426.09 2371.55]\n",
      " [2366.83 2368.45]\n",
      " [2360.38 2378.3 ]\n",
      " [2374.26 2428.2 ]\n",
      " [2442.74 2390.55]\n",
      " [2364.51 2394.35]\n",
      " [2396.91 2404.7 ]\n",
      " [2400.12 2430.5 ]\n",
      " [2440.32 2489.9 ]\n",
      " [2496.14 2482.7 ]\n",
      " [2479.7  2524.45]\n",
      " [2527.05 2548.05]\n",
      " [2561.26 2527.85]\n",
      " [2517.19 2519.25]\n",
      " [2493.31 2523.7 ]\n",
      " [2544.58 2556.15]\n",
      " [2547.18 2609.2 ]\n",
      " [2611.14 2559.85]\n",
      " [2585.5  2572.4 ]\n",
      " [2577.67 2671.25]\n",
      " [2693.19 2652.65]\n",
      " [2635.4  2667.8 ]\n",
      " [2669.93 2694.95]\n",
      " [2690.94 2700.4 ]\n",
      " [2660.3  2707.6 ]\n",
      " [2714.35 2731.85]\n",
      " [2734.   2700.4 ]\n",
      " [2720.32 2622.5 ]\n",
      " [2611.37 2627.4 ]\n",
      " [2672.38 2601.8 ]\n",
      " [2608.24 2661.05]\n",
      " [2643.04 2627.4 ]\n",
      " [2611.15 2598.6 ]\n",
      " [2588.25 2536.25]\n",
      " [2528.83 2537.8 ]\n",
      " [2536.56 2500.8 ]\n",
      " [2498.03 2483.6 ]\n",
      " [2482.93 2498.85]\n",
      " [2512.99 2501.95]\n",
      " [2497.71 2521.7 ]\n",
      " [2508.29 2549.9 ]\n",
      " [2531.64 2554.55]\n",
      " [2554.   2593.1 ]\n",
      " [2590.17 2577.8 ]\n",
      " [2563.64 2517.9 ]\n",
      " [2490.58 2464.  ]\n",
      " [2451.45 2473.3 ]\n",
      " [2430.75 2363.75]\n",
      " [2328.33 2385.85]\n",
      " [2373.4  2351.4 ]\n",
      " [2371.53 2492.95]\n",
      " [2460.66 2412.6 ]\n",
      " [2433.77 2441.5 ]\n",
      " [2464.13 2405.4 ]\n",
      " [2424.85 2467.  ]\n",
      " [2461.94 2482.85]\n",
      " [2491.82 2408.25]\n",
      " [2407.96 2362.6 ]\n",
      " [2368.43 2381.85]\n",
      " [2415.71 2418.1 ]\n",
      " [2427.47 2456.45]\n",
      " [2431.73 2458.95]\n",
      " [2465.76 2409.65]\n",
      " [2372.63 2380.15]\n",
      " [2375.89 2373.2 ]\n",
      " [2397.59 2403.9 ]\n",
      " [2392.22 2340.45]\n",
      " [2310.98 2277.35]\n",
      " [2304.21 2311.25]\n",
      " [2318.67 2366.1 ]\n",
      " [2365.88 2365.25]\n",
      " [2361.67 2372.8 ]\n",
      " [2352.48 2370.25]\n",
      " [2366.95 2398.4 ]\n",
      " [2384.1  2402.5 ]\n",
      " [2395.84 2359.1 ]\n",
      " [2364.98 2368.15]\n",
      " [2356.2  2403.85]\n",
      " [2407.99 2458.1 ]\n",
      " [2454.08 2469.6 ]\n",
      " [2443.88 2416.5 ]\n",
      " [2423.44 2436.  ]\n",
      " [2443.64 2438.  ]\n",
      " [2429.09 2455.55]\n",
      " [2463.97 2521.1 ]\n",
      " [2513.16 2535.3 ]\n",
      " [2528.47 2539.  ]\n",
      " [2529.08 2552.25]\n",
      " [2545.4  2521.8 ]\n",
      " [2521.45 2521.6 ]\n",
      " [2492.96 2477.45]\n",
      " [2444.46 2477.85]\n",
      " [2469.08 2377.9 ]\n",
      " [2344.63 2373.25]\n",
      " [2330.24 2338.1 ]\n",
      " [2358.05 2335.85]\n",
      " [2352.76 2386.6 ]\n",
      " [2400.6  2378.7 ]\n",
      " [2398.96 2383.55]\n",
      " [2383.93 2352.75]\n",
      " [2333.42 2331.3 ]\n",
      " [2334.35 2317.1 ]\n",
      " [2323.31 2356.05]\n",
      " [2363.54 2383.5 ]\n",
      " [2388.19 2381.05]\n",
      " [2366.52 2376.4 ]\n",
      " [2332.6  2338.55]\n",
      " [2343.61 2417.95]\n",
      " [2421.95 2412.95]\n",
      " [2412.58 2443.5 ]\n",
      " [2435.58 2424.4 ]\n",
      " [2404.16 2399.9 ]\n",
      " [2345.76 2389.  ]\n",
      " [2392.54 2374.05]\n",
      " [2300.3  2255.75]\n",
      " [2273.45 2283.95]\n",
      " [2237.83 2359.55]\n",
      " [2328.97 2398.55]\n",
      " [2392.02 2378.3 ]\n",
      " [2345.32 2325.55]\n",
      " [2272.73 2239.55]\n",
      " [2206.44 2235.5 ]\n",
      " [2230.68 2354.1 ]\n",
      " [2393.56 2392.25]\n",
      " [2368.56 2399.15]\n",
      " [2378.58 2418.85]\n",
      " [2420.99 2363.45]\n",
      " [2374.26 2403.35]\n",
      " [2426.87 2481.7 ]\n",
      " [2436.19 2467.4 ]\n",
      " [2454.35 2531.15]\n",
      " [2515.6  2539.2 ]\n",
      " [2502.19 2578.65]\n",
      " [2574.63 2595.85]\n",
      " [2601.16 2621.95]\n",
      " [2628.81 2622.55]\n",
      " [2632.12 2672.95]\n",
      " [2656.57 2634.75]\n",
      " [2626.67 2655.85]\n",
      " [2646.05 2663.7 ]\n",
      " [2642.76 2626.05]\n",
      " [2578.82 2619.05]\n",
      " [2587.44 2572.85]\n",
      " [2552.4  2615.65]\n",
      " [2591.07 2610.2 ]\n",
      " [2578.92 2561.05]\n",
      " [2565.9  2551.65]]\n"
     ]
    }
   ],
   "source": [
    "#saving the data for comparison\n",
    "np.set_printoptions(precision=2)\n",
    "print(np.concatenate((y_pred.reshape(len(y_pred),1), y_test.reshape(len(y_test),1)),1))\n"
   ]
  },
  {
   "cell_type": "markdown",
   "metadata": {},
   "source": [
    "#### Assessing the Metrics of the model"
   ]
  },
  {
   "cell_type": "code",
   "execution_count": 35,
   "metadata": {},
   "outputs": [
    {
     "name": "stdout",
     "output_type": "stream",
     "text": [
      "Model Coefficients: [1.97e-02 3.45e+02 2.06e+00]\n",
      "Root Mean Squared Error: 36.281792920498525\n",
      "R2 Score: 0.9841719189652051\n"
     ]
    }
   ],
   "source": [
    "from sklearn.metrics import mean_squared_error, r2_score\n",
    "# Printout relevant metrics\n",
    "print(\"Model Coefficients:\", lm.coef_)\n",
    "print(\"Root Mean Squared Error:\", np.sqrt(mean_squared_error(y_pred, y_test)))\n",
    "print(\"R2 Score:\",r2_score(y_pred, y_test))"
   ]
  },
  {
   "cell_type": "code",
   "execution_count": 19,
   "metadata": {},
   "outputs": [
    {
     "data": {
      "text/plain": [
       "Text(0, 0.5, 'Predicted Values')"
      ]
     },
     "execution_count": 19,
     "metadata": {},
     "output_type": "execute_result"
    },
    {
     "data": {
      "image/png": "[encoded data removed]",
      "text/plain": [
       "<Figure size 432x288 with 1 Axes>"
      ]
     },
     "metadata": {
      "needs_background": "light"
     },
     "output_type": "display_data"
    }
   ],
   "source": [
    "#plotting the results\n",
    "plt.scatter(lm.predict(X_train),y_train)\n",
    "plt.title('Regression Model on Training Data')\n",
    "plt.xlabel('Actual Values')\n",
    "plt.ylabel('Predicted Values')"
   ]
  },
  {
   "cell_type": "code",
   "execution_count": 20,
   "metadata": {},
   "outputs": [
    {
     "data": {
      "text/plain": [
       "Text(0, 0.5, 'Predicted Values')"
      ]
     },
     "execution_count": 20,
     "metadata": {},
     "output_type": "execute_result"
    },
    {
     "data": {
      "image/png": "[encoded data removed]",
      "text/plain": [
       "<Figure size 432x288 with 1 Axes>"
      ]
     },
     "metadata": {
      "needs_background": "light"
     },
     "output_type": "display_data"
    }
   ],
   "source": [
    "#plotting the results\n",
    "plt.scatter(y_pred,y_test, color ='green')\n",
    "plt.title('Regression Model on Testing Data')\n",
    "plt.xlabel('Actual Values')\n",
    "plt.ylabel('Predicted Values')"
   ]
  }
 ],
 "metadata": {
  "interpreter": {
   "hash": "8aeb7dfd3e2914c49cda2b3ca3d34933ad4586a7080d8f6dcb24da005f14529e"
  },
  "kernelspec": {
   "display_name": "Python 3.10.1 64-bit",
   "language": "python",
   "name": "python3"
  },
  "language_info": {
   "codemirror_mode": {
    "name": "ipython",
    "version": 3
   },
   "file_extension": ".py",
   "mimetype": "text/x-python",
   "name": "python",
   "nbconvert_exporter": "python",
   "pygments_lexer": "ipython3",
   "version": "3.10.1"
  },
  "orig_nbformat": 4
 },
 "nbformat": 4,
 "nbformat_minor": 2
}
